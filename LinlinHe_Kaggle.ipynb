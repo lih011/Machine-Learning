{
 "cells": [
  {
   "attachments": {},
   "cell_type": "markdown",
   "id": "a4630fde-b6bf-4a6b-a354-662f3b84cbb1",
   "metadata": {},
   "source": [
    "***\n",
    "# Sample Code\n",
    "***"
   ]
  },
  {
   "cell_type": "code",
   "execution_count": 1,
   "id": "5efc959c",
   "metadata": {},
   "outputs": [],
   "source": [
    "import numpy as np\n",
    "import pandas as pd\n",
    "import scipy as sp\n",
    "import pickle\n",
    "import itertools\n",
    "import os\n",
    "import string\n",
    "import re\n",
    "import math\n",
    "from io import StringIO, BytesIO\n",
    "from collections import defaultdict, Counter\n",
    "import matplotlib.pyplot as plt\n",
    "from tqdm import tqdm\n",
    "\n",
    "from IPython.display import display\n",
    "\n",
    "import nltk\n",
    "from nltk.corpus import stopwords\n",
    "stop = set(stopwords.words('english'))\n",
    "from nltk.tokenize import word_tokenize\n",
    "from nltk.tokenize import sent_tokenize\n",
    "from nltk.stem import PorterStemmer\n",
    "ps = PorterStemmer()\n",
    "\n",
    "from sklearn.linear_model import LogisticRegression, LogisticRegressionCV\n",
    "from sklearn.model_selection import train_test_split\n",
    "from sklearn.feature_extraction.text import CountVectorizer\n",
    "from sklearn.feature_extraction.text import TfidfTransformer, TfidfVectorizer\n",
    "from sklearn.metrics import confusion_matrix, roc_auc_score, f1_score, accuracy_score\n",
    "\n",
    "from gensim.test.utils import datapath, get_tmpfile\n",
    "from gensim.models import KeyedVectors\n",
    "from gensim.scripts.glove2word2vec import glove2word2vec\n",
    "from gensim.models import Word2Vec\n",
    "\n",
    "from copy import deepcopy\n",
    "import operator"
   ]
  },
  {
   "cell_type": "code",
   "execution_count": 4,
   "id": "5c6d5d89-36a4-4f4a-867c-a2ddb2341d29",
   "metadata": {},
   "outputs": [],
   "source": [
    "# pip install scikit-learn==1.0.2\n"
   ]
  },
  {
   "cell_type": "code",
   "execution_count": 5,
   "id": "81813c54-9368-45d9-8c7d-cf631f3a97ed",
   "metadata": {},
   "outputs": [
    {
     "name": "stdout",
     "output_type": "stream",
     "text": [
      "1.0.2\n"
     ]
    }
   ],
   "source": [
    "import sklearn\n",
    "print(sklearn.__version__)\n"
   ]
  },
  {
   "cell_type": "markdown",
   "id": "147b53bf",
   "metadata": {},
   "source": [
    "***\n",
    "# Load and Clean the Train Set\n",
    "***"
   ]
  },
  {
   "cell_type": "code",
   "execution_count": 6,
   "id": "de957453",
   "metadata": {},
   "outputs": [],
   "source": [
    "def clean_dataset(df,keep_cols,encode_cols=[]):\n",
    "    \"\"\"Clean the dataset\n",
    "    \"\"\"\n",
    "    # Step 1: keep only columns to be used\n",
    "    df = df[df.columns[df.columns.isin(keep_cols)]].loc[:,keep_cols]\n",
    "    # Step 2: reformat bytes to strings\n",
    "    for col in encode_cols:\n",
    "        df[col] = [s.replace(\"b'\",\"\").replace(\"'\",\"\") for s in df[col]]\n",
    "    return df"
   ]
  },
  {
   "cell_type": "code",
   "execution_count": 7,
   "id": "6ea69887",
   "metadata": {},
   "outputs": [],
   "source": [
    "df = pd.read_csv(\"train.csv\")"
   ]
  },
  {
   "cell_type": "code",
   "execution_count": 8,
   "id": "bb22c05e",
   "metadata": {},
   "outputs": [
    {
     "data": {
      "text/html": [
       "<div>\n",
       "<style scoped>\n",
       "    .dataframe tbody tr th:only-of-type {\n",
       "        vertical-align: middle;\n",
       "    }\n",
       "\n",
       "    .dataframe tbody tr th {\n",
       "        vertical-align: top;\n",
       "    }\n",
       "\n",
       "    .dataframe thead th {\n",
       "        text-align: right;\n",
       "    }\n",
       "</style>\n",
       "<table border=\"1\" class=\"dataframe\">\n",
       "  <thead>\n",
       "    <tr style=\"text-align: right;\">\n",
       "      <th></th>\n",
       "      <th>id</th>\n",
       "      <th>attributes.HappyHour</th>\n",
       "      <th>attributes.Ambience</th>\n",
       "      <th>hours.Tuesday</th>\n",
       "      <th>postal_code</th>\n",
       "      <th>attributes.AgesAllowed</th>\n",
       "      <th>attributes.GoodForDancing</th>\n",
       "      <th>attributes.OutdoorSeating</th>\n",
       "      <th>hours.Saturday</th>\n",
       "      <th>attributes.Corkage</th>\n",
       "      <th>...</th>\n",
       "      <th>attributes.AcceptsInsurance</th>\n",
       "      <th>attributes.RestaurantsDelivery</th>\n",
       "      <th>attributes.DietaryRestrictions</th>\n",
       "      <th>attributes.BusinessAcceptsBitcoin</th>\n",
       "      <th>address</th>\n",
       "      <th>attributes.GoodForKids</th>\n",
       "      <th>attributes.GoodForMeal</th>\n",
       "      <th>hours</th>\n",
       "      <th>label</th>\n",
       "      <th>review</th>\n",
       "    </tr>\n",
       "  </thead>\n",
       "  <tbody>\n",
       "    <tr>\n",
       "      <th>0</th>\n",
       "      <td>0</td>\n",
       "      <td>b'True'</td>\n",
       "      <td>b\"{'romantic': False, 'intimate': False, 'clas...</td>\n",
       "      <td>b'15:0-2:0'</td>\n",
       "      <td>b'44107'</td>\n",
       "      <td>NaN</td>\n",
       "      <td>NaN</td>\n",
       "      <td>b'False'</td>\n",
       "      <td>b'11:30-2:0'</td>\n",
       "      <td>NaN</td>\n",
       "      <td>...</td>\n",
       "      <td>NaN</td>\n",
       "      <td>b'False'</td>\n",
       "      <td>NaN</td>\n",
       "      <td>NaN</td>\n",
       "      <td>b'17800 Detroit Ave'</td>\n",
       "      <td>b'False'</td>\n",
       "      <td>b\"{'dessert': False, 'latenight': False, 'lunc...</td>\n",
       "      <td>{'Monday': '16:0-2:0', 'Tuesday': '15:0-2:0', ...</td>\n",
       "      <td>american (traditional)</td>\n",
       "      <td>So, we stopped here on our way to the Side Que...</td>\n",
       "    </tr>\n",
       "    <tr>\n",
       "      <th>1</th>\n",
       "      <td>1</td>\n",
       "      <td>NaN</td>\n",
       "      <td>b\"{'romantic': False, 'intimate': False, 'tour...</td>\n",
       "      <td>b'11:0-21:0'</td>\n",
       "      <td>b'85042'</td>\n",
       "      <td>NaN</td>\n",
       "      <td>NaN</td>\n",
       "      <td>b'True'</td>\n",
       "      <td>b'11:0-20:30'</td>\n",
       "      <td>NaN</td>\n",
       "      <td>...</td>\n",
       "      <td>NaN</td>\n",
       "      <td>b'False'</td>\n",
       "      <td>NaN</td>\n",
       "      <td>b'False'</td>\n",
       "      <td>b'2160 E Baseline Rd, Ste 128'</td>\n",
       "      <td>b'True'</td>\n",
       "      <td>b\"{'dessert': False, 'latenight': False, 'lunc...</td>\n",
       "      <td>{'Monday': '11:0-21:0', 'Tuesday': '11:0-21:0'...</td>\n",
       "      <td>american (new)</td>\n",
       "      <td>This is our go-to healthy spot! The food is al...</td>\n",
       "    </tr>\n",
       "    <tr>\n",
       "      <th>2</th>\n",
       "      <td>2</td>\n",
       "      <td>NaN</td>\n",
       "      <td>NaN</td>\n",
       "      <td>b'11:0-21:0'</td>\n",
       "      <td>b'M4M 3G6'</td>\n",
       "      <td>NaN</td>\n",
       "      <td>NaN</td>\n",
       "      <td>NaN</td>\n",
       "      <td>b'11:0-21:0'</td>\n",
       "      <td>NaN</td>\n",
       "      <td>...</td>\n",
       "      <td>NaN</td>\n",
       "      <td>NaN</td>\n",
       "      <td>NaN</td>\n",
       "      <td>NaN</td>\n",
       "      <td>b'1000 Gerrard St E'</td>\n",
       "      <td>NaN</td>\n",
       "      <td>NaN</td>\n",
       "      <td>{'Monday': '11:0-21:0', 'Tuesday': '11:0-21:0'...</td>\n",
       "      <td>mexican</td>\n",
       "      <td>Food court meal at Gerrard Square.  It's been ...</td>\n",
       "    </tr>\n",
       "  </tbody>\n",
       "</table>\n",
       "<p>3 rows × 62 columns</p>\n",
       "</div>"
      ],
      "text/plain": [
       "   id attributes.HappyHour                                attributes.Ambience  \\\n",
       "0   0              b'True'  b\"{'romantic': False, 'intimate': False, 'clas...   \n",
       "1   1                  NaN  b\"{'romantic': False, 'intimate': False, 'tour...   \n",
       "2   2                  NaN                                                NaN   \n",
       "\n",
       "  hours.Tuesday postal_code attributes.AgesAllowed attributes.GoodForDancing  \\\n",
       "0   b'15:0-2:0'    b'44107'                    NaN                       NaN   \n",
       "1  b'11:0-21:0'    b'85042'                    NaN                       NaN   \n",
       "2  b'11:0-21:0'  b'M4M 3G6'                    NaN                       NaN   \n",
       "\n",
       "  attributes.OutdoorSeating hours.Saturday attributes.Corkage  ...  \\\n",
       "0                  b'False'   b'11:30-2:0'                NaN  ...   \n",
       "1                   b'True'  b'11:0-20:30'                NaN  ...   \n",
       "2                       NaN   b'11:0-21:0'                NaN  ...   \n",
       "\n",
       "   attributes.AcceptsInsurance attributes.RestaurantsDelivery  \\\n",
       "0                          NaN                       b'False'   \n",
       "1                          NaN                       b'False'   \n",
       "2                          NaN                            NaN   \n",
       "\n",
       "  attributes.DietaryRestrictions attributes.BusinessAcceptsBitcoin  \\\n",
       "0                            NaN                               NaN   \n",
       "1                            NaN                          b'False'   \n",
       "2                            NaN                               NaN   \n",
       "\n",
       "                          address attributes.GoodForKids  \\\n",
       "0            b'17800 Detroit Ave'               b'False'   \n",
       "1  b'2160 E Baseline Rd, Ste 128'                b'True'   \n",
       "2            b'1000 Gerrard St E'                    NaN   \n",
       "\n",
       "                              attributes.GoodForMeal  \\\n",
       "0  b\"{'dessert': False, 'latenight': False, 'lunc...   \n",
       "1  b\"{'dessert': False, 'latenight': False, 'lunc...   \n",
       "2                                                NaN   \n",
       "\n",
       "                                               hours                   label  \\\n",
       "0  {'Monday': '16:0-2:0', 'Tuesday': '15:0-2:0', ...  american (traditional)   \n",
       "1  {'Monday': '11:0-21:0', 'Tuesday': '11:0-21:0'...          american (new)   \n",
       "2  {'Monday': '11:0-21:0', 'Tuesday': '11:0-21:0'...                 mexican   \n",
       "\n",
       "                                              review  \n",
       "0  So, we stopped here on our way to the Side Que...  \n",
       "1  This is our go-to healthy spot! The food is al...  \n",
       "2  Food court meal at Gerrard Square.  It's been ...  \n",
       "\n",
       "[3 rows x 62 columns]"
      ]
     },
     "execution_count": 8,
     "metadata": {},
     "output_type": "execute_result"
    }
   ],
   "source": [
    "df.head(3)"
   ]
  },
  {
   "cell_type": "code",
   "execution_count": 9,
   "id": "cca7d035",
   "metadata": {},
   "outputs": [],
   "source": [
    "keep_columns = ['id','label','name','state','postal_code','review','review_count','is_open','stars','attributes','hours']\n",
    "encode_columns = ['name','state','postal_code']\n",
    "\n",
    "df = clean_dataset(df,keep_columns,encode_cols=encode_columns)"
   ]
  },
  {
   "cell_type": "code",
   "execution_count": 10,
   "id": "e42638f0",
   "metadata": {},
   "outputs": [
    {
     "data": {
      "text/html": [
       "<div>\n",
       "<style scoped>\n",
       "    .dataframe tbody tr th:only-of-type {\n",
       "        vertical-align: middle;\n",
       "    }\n",
       "\n",
       "    .dataframe tbody tr th {\n",
       "        vertical-align: top;\n",
       "    }\n",
       "\n",
       "    .dataframe thead th {\n",
       "        text-align: right;\n",
       "    }\n",
       "</style>\n",
       "<table border=\"1\" class=\"dataframe\">\n",
       "  <thead>\n",
       "    <tr style=\"text-align: right;\">\n",
       "      <th></th>\n",
       "      <th>id</th>\n",
       "      <th>label</th>\n",
       "      <th>name</th>\n",
       "      <th>state</th>\n",
       "      <th>postal_code</th>\n",
       "      <th>review</th>\n",
       "      <th>review_count</th>\n",
       "      <th>is_open</th>\n",
       "      <th>stars</th>\n",
       "      <th>attributes</th>\n",
       "      <th>hours</th>\n",
       "    </tr>\n",
       "  </thead>\n",
       "  <tbody>\n",
       "    <tr>\n",
       "      <th>0</th>\n",
       "      <td>0</td>\n",
       "      <td>american (traditional)</td>\n",
       "      <td>Rush Inn</td>\n",
       "      <td>OH</td>\n",
       "      <td>44107</td>\n",
       "      <td>So, we stopped here on our way to the Side Que...</td>\n",
       "      <td>70</td>\n",
       "      <td>1</td>\n",
       "      <td>4.0</td>\n",
       "      <td>{'WiFi': \"u'no'\", 'Caters': 'True', 'HappyHour...</td>\n",
       "      <td>{'Monday': '16:0-2:0', 'Tuesday': '15:0-2:0', ...</td>\n",
       "    </tr>\n",
       "    <tr>\n",
       "      <th>1</th>\n",
       "      <td>1</td>\n",
       "      <td>american (new)</td>\n",
       "      <td>GreenMix</td>\n",
       "      <td>AZ</td>\n",
       "      <td>85042</td>\n",
       "      <td>This is our go-to healthy spot! The food is al...</td>\n",
       "      <td>181</td>\n",
       "      <td>1</td>\n",
       "      <td>3.5</td>\n",
       "      <td>{'WiFi': \"u'no'\", 'HasTV': 'False', 'GoodForMe...</td>\n",
       "      <td>{'Monday': '11:0-21:0', 'Tuesday': '11:0-21:0'...</td>\n",
       "    </tr>\n",
       "    <tr>\n",
       "      <th>2</th>\n",
       "      <td>2</td>\n",
       "      <td>mexican</td>\n",
       "      <td>BarBurrito - Gerrard</td>\n",
       "      <td>ON</td>\n",
       "      <td>M4M 3G6</td>\n",
       "      <td>Food court meal at Gerrard Square.  It's been ...</td>\n",
       "      <td>6</td>\n",
       "      <td>1</td>\n",
       "      <td>3.0</td>\n",
       "      <td>{'RestaurantsTakeOut': 'False', 'RestaurantsRe...</td>\n",
       "      <td>{'Monday': '11:0-21:0', 'Tuesday': '11:0-21:0'...</td>\n",
       "    </tr>\n",
       "  </tbody>\n",
       "</table>\n",
       "</div>"
      ],
      "text/plain": [
       "   id                   label                  name state postal_code  \\\n",
       "0   0  american (traditional)              Rush Inn    OH       44107   \n",
       "1   1          american (new)              GreenMix    AZ       85042   \n",
       "2   2                 mexican  BarBurrito - Gerrard    ON     M4M 3G6   \n",
       "\n",
       "                                              review  review_count  is_open  \\\n",
       "0  So, we stopped here on our way to the Side Que...            70        1   \n",
       "1  This is our go-to healthy spot! The food is al...           181        1   \n",
       "2  Food court meal at Gerrard Square.  It's been ...             6        1   \n",
       "\n",
       "   stars                                         attributes  \\\n",
       "0    4.0  {'WiFi': \"u'no'\", 'Caters': 'True', 'HappyHour...   \n",
       "1    3.5  {'WiFi': \"u'no'\", 'HasTV': 'False', 'GoodForMe...   \n",
       "2    3.0  {'RestaurantsTakeOut': 'False', 'RestaurantsRe...   \n",
       "\n",
       "                                               hours  \n",
       "0  {'Monday': '16:0-2:0', 'Tuesday': '15:0-2:0', ...  \n",
       "1  {'Monday': '11:0-21:0', 'Tuesday': '11:0-21:0'...  \n",
       "2  {'Monday': '11:0-21:0', 'Tuesday': '11:0-21:0'...  "
      ]
     },
     "execution_count": 10,
     "metadata": {},
     "output_type": "execute_result"
    }
   ],
   "source": [
    "df.head(3)"
   ]
  },
  {
   "cell_type": "markdown",
   "id": "6cebb59d",
   "metadata": {},
   "source": [
    "***\n",
    "# Explanatory Data Analysis\n",
    "***"
   ]
  },
  {
   "cell_type": "code",
   "execution_count": 11,
   "id": "d763b18e",
   "metadata": {},
   "outputs": [
    {
     "data": {
      "text/plain": [
       "{'japanese': 1063,\n",
       " 'chinese': 1696,\n",
       " 'american (new)': 1399,\n",
       " 'asian fusion': 362,\n",
       " 'mediterranean': 728,\n",
       " 'canadian (new)': 484,\n",
       " 'american (traditional)': 2680,\n",
       " 'italian': 2032,\n",
       " 'mexican': 2217,\n",
       " 'thai': 483}"
      ]
     },
     "metadata": {},
     "output_type": "display_data"
    }
   ],
   "source": [
    "# the label distribution\n",
    "labels = dict.fromkeys(set(df['label'].tolist()),0)\n",
    "for l in  list(set(df['label'].tolist())):\n",
    "    labels[l] = (df['label'] == l).sum()\n",
    "\n",
    "# verify:\n",
    "sum(list(labels.values())) == df.shape[0]\n",
    "\n",
    "display(labels)"
   ]
  },
  {
   "cell_type": "code",
   "execution_count": 12,
   "id": "f0b11ef8",
   "metadata": {},
   "outputs": [
    {
     "name": "stdout",
     "output_type": "stream",
     "text": [
      "The minimum number of reviews is 5, the maximum is 5763, the average is 88.82402617163724.\n"
     ]
    }
   ],
   "source": [
    "# reviews\n",
    "print(f'The minimum number of reviews is {df.review_count.min()}, the maximum is {df.review_count.max()}, the average is {df.review_count.mean()}.')"
   ]
  },
  {
   "cell_type": "markdown",
   "id": "80cc1ce8",
   "metadata": {},
   "source": [
    "***\n",
    "# Train Classification Models\n",
    "***"
   ]
  },
  {
   "cell_type": "markdown",
   "id": "2a09aebe",
   "metadata": {},
   "source": [
    "## Name as Identifier"
   ]
  },
  {
   "cell_type": "code",
   "execution_count": 13,
   "id": "c2bdff98",
   "metadata": {},
   "outputs": [],
   "source": [
    "def process_name(df):\n",
    "    # if pre-existed, remove:\n",
    "    if 'name_sep' in df:\n",
    "        df.drop(columns=['name_sep'],inplace=True)\n",
    "    # separate name by uppercase letter:\n",
    "    names = df['name'].tolist()\n",
    "    new_names = []\n",
    "    for name in names:\n",
    "        new_names.append(\" \".join(w.lower() for w in re.findall('[A-Z][^A-Z]*', name)))\n",
    "    # add a new column:\n",
    "    cols = df.columns.tolist().copy()\n",
    "    ix = cols.index('name') + 1\n",
    "    cols.insert(ix,'name_sep')\n",
    "    df['name_sep'] = new_names\n",
    "    df = df.loc[:,cols]\n",
    "    return df"
   ]
  },
  {
   "cell_type": "code",
   "execution_count": 14,
   "id": "f49ec17b",
   "metadata": {},
   "outputs": [],
   "source": [
    "def tokenize_names(df):\n",
    "    # create name tokens:\n",
    "    name_tokens = []\n",
    "    all_name_tokens = {}\n",
    "    for name in df['name_sep']:\n",
    "        words = word_tokenize(name)\n",
    "        name_tokens.append(words)\n",
    "        for w in words:\n",
    "            if w.lower() in all_name_tokens:\n",
    "                all_name_tokens[w.lower()] += 1\n",
    "            else:\n",
    "                all_name_tokens[w.lower()] = 1\n",
    "    return name_tokens,all_name_tokens"
   ]
  },
  {
   "cell_type": "code",
   "execution_count": 15,
   "id": "1add5d69",
   "metadata": {},
   "outputs": [],
   "source": [
    "df = process_name(df)"
   ]
  },
  {
   "cell_type": "code",
   "execution_count": 16,
   "id": "0ae00d14",
   "metadata": {},
   "outputs": [
    {
     "data": {
      "text/html": [
       "<div>\n",
       "<style scoped>\n",
       "    .dataframe tbody tr th:only-of-type {\n",
       "        vertical-align: middle;\n",
       "    }\n",
       "\n",
       "    .dataframe tbody tr th {\n",
       "        vertical-align: top;\n",
       "    }\n",
       "\n",
       "    .dataframe thead th {\n",
       "        text-align: right;\n",
       "    }\n",
       "</style>\n",
       "<table border=\"1\" class=\"dataframe\">\n",
       "  <thead>\n",
       "    <tr style=\"text-align: right;\">\n",
       "      <th></th>\n",
       "      <th>id</th>\n",
       "      <th>label</th>\n",
       "      <th>name</th>\n",
       "      <th>name_sep</th>\n",
       "      <th>state</th>\n",
       "      <th>postal_code</th>\n",
       "      <th>review</th>\n",
       "      <th>review_count</th>\n",
       "      <th>is_open</th>\n",
       "      <th>stars</th>\n",
       "      <th>attributes</th>\n",
       "      <th>hours</th>\n",
       "    </tr>\n",
       "  </thead>\n",
       "  <tbody>\n",
       "    <tr>\n",
       "      <th>0</th>\n",
       "      <td>0</td>\n",
       "      <td>american (traditional)</td>\n",
       "      <td>Rush Inn</td>\n",
       "      <td>rush  inn</td>\n",
       "      <td>OH</td>\n",
       "      <td>44107</td>\n",
       "      <td>So, we stopped here on our way to the Side Que...</td>\n",
       "      <td>70</td>\n",
       "      <td>1</td>\n",
       "      <td>4.0</td>\n",
       "      <td>{'WiFi': \"u'no'\", 'Caters': 'True', 'HappyHour...</td>\n",
       "      <td>{'Monday': '16:0-2:0', 'Tuesday': '15:0-2:0', ...</td>\n",
       "    </tr>\n",
       "    <tr>\n",
       "      <th>1</th>\n",
       "      <td>1</td>\n",
       "      <td>american (new)</td>\n",
       "      <td>GreenMix</td>\n",
       "      <td>green mix</td>\n",
       "      <td>AZ</td>\n",
       "      <td>85042</td>\n",
       "      <td>This is our go-to healthy spot! The food is al...</td>\n",
       "      <td>181</td>\n",
       "      <td>1</td>\n",
       "      <td>3.5</td>\n",
       "      <td>{'WiFi': \"u'no'\", 'HasTV': 'False', 'GoodForMe...</td>\n",
       "      <td>{'Monday': '11:0-21:0', 'Tuesday': '11:0-21:0'...</td>\n",
       "    </tr>\n",
       "    <tr>\n",
       "      <th>2</th>\n",
       "      <td>2</td>\n",
       "      <td>mexican</td>\n",
       "      <td>BarBurrito - Gerrard</td>\n",
       "      <td>bar burrito -  gerrard</td>\n",
       "      <td>ON</td>\n",
       "      <td>M4M 3G6</td>\n",
       "      <td>Food court meal at Gerrard Square.  It's been ...</td>\n",
       "      <td>6</td>\n",
       "      <td>1</td>\n",
       "      <td>3.0</td>\n",
       "      <td>{'RestaurantsTakeOut': 'False', 'RestaurantsRe...</td>\n",
       "      <td>{'Monday': '11:0-21:0', 'Tuesday': '11:0-21:0'...</td>\n",
       "    </tr>\n",
       "  </tbody>\n",
       "</table>\n",
       "</div>"
      ],
      "text/plain": [
       "   id                   label                  name                name_sep  \\\n",
       "0   0  american (traditional)              Rush Inn               rush  inn   \n",
       "1   1          american (new)              GreenMix               green mix   \n",
       "2   2                 mexican  BarBurrito - Gerrard  bar burrito -  gerrard   \n",
       "\n",
       "  state postal_code                                             review  \\\n",
       "0    OH       44107  So, we stopped here on our way to the Side Que...   \n",
       "1    AZ       85042  This is our go-to healthy spot! The food is al...   \n",
       "2    ON     M4M 3G6  Food court meal at Gerrard Square.  It's been ...   \n",
       "\n",
       "   review_count  is_open  stars  \\\n",
       "0            70        1    4.0   \n",
       "1           181        1    3.5   \n",
       "2             6        1    3.0   \n",
       "\n",
       "                                          attributes  \\\n",
       "0  {'WiFi': \"u'no'\", 'Caters': 'True', 'HappyHour...   \n",
       "1  {'WiFi': \"u'no'\", 'HasTV': 'False', 'GoodForMe...   \n",
       "2  {'RestaurantsTakeOut': 'False', 'RestaurantsRe...   \n",
       "\n",
       "                                               hours  \n",
       "0  {'Monday': '16:0-2:0', 'Tuesday': '15:0-2:0', ...  \n",
       "1  {'Monday': '11:0-21:0', 'Tuesday': '11:0-21:0'...  \n",
       "2  {'Monday': '11:0-21:0', 'Tuesday': '11:0-21:0'...  "
      ]
     },
     "execution_count": 16,
     "metadata": {},
     "output_type": "execute_result"
    }
   ],
   "source": [
    "df.head(3)"
   ]
  },
  {
   "cell_type": "code",
   "execution_count": 17,
   "id": "05d06102",
   "metadata": {},
   "outputs": [],
   "source": [
    "# split as train and validation\n",
    "df_train = df.iloc[:-1000,:]\n",
    "df_test = df.iloc[-1000:,:]"
   ]
  },
  {
   "cell_type": "code",
   "execution_count": 18,
   "id": "af213d75",
   "metadata": {},
   "outputs": [],
   "source": [
    "name_tokens,all_name_tokens = tokenize_names(df_train)"
   ]
  },
  {
   "cell_type": "code",
   "execution_count": 19,
   "id": "e3626159",
   "metadata": {},
   "outputs": [],
   "source": [
    "def find_strong_name_indicators(df,name_tokens,all_name_tokens,tol=1e-8,threshold=0.95,occurence=10):\n",
    "    \"\"\"Find strong indicators in business names to predict restaurant type.\n",
    "    \"\"\"\n",
    "    labels0 = dict.fromkeys(set(df['label'].tolist()),0)\n",
    "    count_by_name_tokens = {key:deepcopy(labels0) for key,_ in all_name_tokens.items()}\n",
    "    freq_by_name_tokens = {key:deepcopy(labels0) for key,_ in all_name_tokens.items()}\n",
    "    \n",
    "    for i in df['id']:\n",
    "        l = df['label'][i]\n",
    "        for w in name_tokens[i]:\n",
    "            count_by_name_tokens[w][l] += 1\n",
    "\n",
    "    for t in count_by_name_tokens:\n",
    "        for l in count_by_name_tokens[t]:\n",
    "            freq_by_name_tokens[t][l] = count_by_name_tokens[t][l]/all_name_tokens[t]\n",
    "        try:\n",
    "            assert abs(sum(freq_by_name_tokens[t].values()) - 1) < tol\n",
    "        except:\n",
    "            print(t)\n",
    "\n",
    "    strong_ind = {}\n",
    "    for t in count_by_name_tokens:\n",
    "        counts = count_by_name_tokens[t]\n",
    "        freqs = freq_by_name_tokens[t]\n",
    "        label_opt,max_freq = max(freqs.items(), key=operator.itemgetter(1))\n",
    "        tot = sum(counts.values())\n",
    "        if max_freq > threshold and tot >= occurence:\n",
    "            strong_ind[t] = (tot,max_freq,label_opt)\n",
    "    return strong_ind"
   ]
  },
  {
   "cell_type": "code",
   "execution_count": 20,
   "id": "96863870",
   "metadata": {},
   "outputs": [],
   "source": [
    "def predict_with_name_indicator(df,strong_ind):\n",
    "    \"\"\"Predict from business name.\n",
    "    \"\"\"\n",
    "    if 'predicted' in df:\n",
    "        df.drop(columns=['predicted'],inplace=True)\n",
    "    df['predicted'] = 'undetermined'\n",
    "    for i in df['id']:\n",
    "        words = word_tokenize(df['name_sep'][i])\n",
    "        for w in words:\n",
    "            if w in strong_ind:\n",
    "                df['predicted'][i] = strong_ind[w][2]\n",
    "    return df"
   ]
  },
  {
   "cell_type": "code",
   "execution_count": 21,
   "id": "34e8214c",
   "metadata": {},
   "outputs": [],
   "source": [
    "strong_ind = find_strong_name_indicators(df_train,name_tokens,all_name_tokens)"
   ]
  },
  {
   "cell_type": "code",
   "execution_count": 22,
   "id": "7b0a1cb0",
   "metadata": {},
   "outputs": [
    {
     "name": "stderr",
     "output_type": "stream",
     "text": [
      "/tmp/ipykernel_15767/3066664956.py:11: SettingWithCopyWarning: \n",
      "A value is trying to be set on a copy of a slice from a DataFrame\n",
      "\n",
      "See the caveats in the documentation: https://pandas.pydata.org/pandas-docs/stable/user_guide/indexing.html#returning-a-view-versus-a-copy\n",
      "  df['predicted'][i] = strong_ind[w][2]\n"
     ]
    }
   ],
   "source": [
    "df = predict_with_name_indicator(df,strong_ind)"
   ]
  },
  {
   "cell_type": "code",
   "execution_count": 23,
   "id": "4fd6b0cb",
   "metadata": {},
   "outputs": [],
   "source": [
    "# split as train and validation\n",
    "df_train = df.iloc[:-1000,:]\n",
    "df_test = df.iloc[-1000:,:]"
   ]
  },
  {
   "cell_type": "code",
   "execution_count": 24,
   "id": "ea381733",
   "metadata": {},
   "outputs": [
    {
     "name": "stdout",
     "output_type": "stream",
     "text": [
      "Using strong name indicators, in the train set, 3962 restaurants are identified, among which 3931 predictions are correct, the accuracy is 0.9921756688541141\n"
     ]
    }
   ],
   "source": [
    "# in train set\n",
    "correct_train = sum(df_train.loc[df_train['predicted'] != 'undetermined']['predicted'] == df_train.loc[df['predicted'] != 'undetermined']['label'])\n",
    "total_identified_train = len(df_train.loc[df_train['predicted'] != 'undetermined']['predicted'])\n",
    "accuracy_train = correct_train/total_identified_train\n",
    "print(f'Using strong name indicators, in the train set, {total_identified_train} restaurants are identified, among which {correct_train} predictions are correct, the accuracy is {accuracy_train}')"
   ]
  },
  {
   "cell_type": "code",
   "execution_count": 25,
   "id": "f6690330",
   "metadata": {},
   "outputs": [
    {
     "name": "stdout",
     "output_type": "stream",
     "text": [
      "Using strong name indicators, in the test set, 326 restaurants are identified, among which 320 predictions are correct, the accuracy is 0.9815950920245399\n"
     ]
    }
   ],
   "source": [
    "# in train set\n",
    "correct_test = sum(df_test.loc[df_test['predicted'] != 'undetermined']['predicted'] == df_test.loc[df['predicted'] != 'undetermined']['label'])\n",
    "total_identified_test = len(df_test.loc[df_test['predicted'] != 'undetermined']['predicted'])\n",
    "accuracy_test = correct_test/total_identified_test\n",
    "print(f'Using strong name indicators, in the test set, {total_identified_test} restaurants are identified, among which {correct_test} predictions are correct, the accuracy is {accuracy_test}')"
   ]
  },
  {
   "cell_type": "code",
   "execution_count": 26,
   "id": "6f04ba74",
   "metadata": {},
   "outputs": [
    {
     "name": "stdout",
     "output_type": "stream",
     "text": [
      "Using strong name indicators, in entire sample, 4288 restaurants are identified, among which 4251 predictions are correct, the accuracy is 0.9913712686567164\n"
     ]
    }
   ],
   "source": [
    "# overall\n",
    "correct = sum(df.loc[df['predicted'] != 'undetermined']['predicted'] == df.loc[df['predicted'] != 'undetermined']['label'])\n",
    "total_identified = len(df.loc[df['predicted'] != 'undetermined']['predicted'])\n",
    "accuracy = correct/total_identified\n",
    "print(f'Using strong name indicators, in entire sample, {total_identified} restaurants are identified, among which {correct} predictions are correct, the accuracy is {accuracy}')"
   ]
  },
  {
   "cell_type": "markdown",
   "id": "0d8bba97",
   "metadata": {},
   "source": [
    "***\n",
    "# Review Text Mining as Identifier\n",
    "***"
   ]
  },
  {
   "cell_type": "code",
   "execution_count": 27,
   "id": "97de65f6",
   "metadata": {},
   "outputs": [],
   "source": [
    "df_undeter = df.loc[df['predicted']=='undetermined']\n",
    "df_undeter_train = df_train.loc[df_train['predicted']=='undetermined']\n",
    "df_undeter_valid = df_test.loc[df_test['predicted']=='undetermined']"
   ]
  },
  {
   "cell_type": "code",
   "execution_count": 28,
   "id": "93e63a3f",
   "metadata": {},
   "outputs": [],
   "source": [
    "reviews_undeter = df_undeter.review\n",
    "reviews_train = df_undeter_train.review\n",
    "reviews_valid = df_undeter_valid.review"
   ]
  },
  {
   "cell_type": "code",
   "execution_count": 29,
   "id": "21f7b407",
   "metadata": {},
   "outputs": [],
   "source": [
    "def preprocess_reviews(doc,stemming=True,by_sentence= False):\n",
    "    \"\"\"Pre-process reviews.\n",
    "    \"\"\"\n",
    "    # step 1: get sentences\n",
    "    sentences = sent_tokenize(doc)\n",
    "    # step 2: get tokens\n",
    "    tokens = []\n",
    "    for sentence in sentences:\n",
    "        words = word_tokenize(sentence) # get words  i\n",
    "        # step 3 (optional): stemming\n",
    "        if stemming:\n",
    "            words = [ps.stem(word) for word in words if word.lower() not in stop]\n",
    "        else:\n",
    "            words = [word for word in words if word.lower() not in stop]\n",
    "        if by_sentence:\n",
    "            tokens.append(words)\n",
    "        else:\n",
    "            tokens += words\n",
    "    if by_sentence:\n",
    "        return  [[w.lower() for w in t] for t in tokens]\n",
    "    else:\n",
    "        return [w.lower() for w in tokens]"
   ]
  },
  {
   "cell_type": "code",
   "execution_count": 30,
   "id": "8d16c46d",
   "metadata": {},
   "outputs": [
    {
     "name": "stdout",
     "output_type": "stream",
     "text": [
      "0    [,, stop, way, side, quest, ,, street, ., \\n\\n...\n",
      "1    [go-to, healthi, spot, !, food, alway, fresh, ...\n",
      "2    [food, court, meal, gerrard, squar, ., 's, sin...\n",
      "Name: review, dtype: object\n"
     ]
    }
   ],
   "source": [
    "print(df_train.review[:3].apply(preprocess_reviews))"
   ]
  },
  {
   "cell_type": "code",
   "execution_count": 31,
   "id": "3ba9387d",
   "metadata": {},
   "outputs": [],
   "source": [
    "count = CountVectorizer(stop_words=stop)\n",
    "bag = count.fit_transform(df_train.review)\n",
    "vocab = count.vocabulary_"
   ]
  },
  {
   "cell_type": "code",
   "execution_count": 32,
   "id": "9e66e7f0",
   "metadata": {},
   "outputs": [],
   "source": [
    "tfidf = TfidfVectorizer(vocabulary=vocab, norm='l2', smooth_idf=True)"
   ]
  },
  {
   "cell_type": "code",
   "execution_count": 33,
   "id": "efc7790c",
   "metadata": {},
   "outputs": [],
   "source": [
    "X_train = tfidf.fit_transform(reviews_train)\n",
    "X_valid = tfidf.fit_transform(reviews_valid)\n",
    "y_train = df_undeter_train.label\n",
    "y_valid = df_undeter_valid.label"
   ]
  },
  {
   "cell_type": "code",
   "execution_count": 34,
   "id": "0a6d2b88",
   "metadata": {},
   "outputs": [],
   "source": [
    "assert X_train.shape[0] == len(y_train)\n",
    "assert X_valid.shape[0] == len(y_valid)"
   ]
  },
  {
   "cell_type": "code",
   "execution_count": 35,
   "id": "1f8bc7b8",
   "metadata": {},
   "outputs": [
    {
     "name": "stdout",
     "output_type": "stream",
     "text": [
      "=============================\n",
      "Solver: lbfgs, C: 0.001:\n",
      "Solver: lbfgs, C: 0.01:\n",
      "Solver: lbfgs, C: 0.1:\n",
      "Solver: lbfgs, C: 1:\n",
      "Solver: lbfgs, C: 10:\n",
      "Solver: lbfgs, C: 100:\n",
      "Solver: lbfgs, C: 1000:\n",
      "=============================\n",
      "Solver: liblinear, C: 0.001:\n",
      "Solver: liblinear, C: 0.01:\n",
      "Solver: liblinear, C: 0.1:\n",
      "Solver: liblinear, C: 1:\n",
      "Solver: liblinear, C: 10:\n",
      "Solver: liblinear, C: 100:\n",
      "Solver: liblinear, C: 1000:\n"
     ]
    }
   ],
   "source": [
    "c_list = [0.001,0.01,0.1,1,10,100,1000]\n",
    "res_collection = {'lbfgs':{},'liblinear':{}}\n",
    "\n",
    "for solver in list(res_collection.keys()):\n",
    "    print(\"=============================\")\n",
    "    res_collection[solver] = {}\n",
    "    for c in c_list:\n",
    "        res_collection[solver][str(c)] = {}\n",
    "        print(f'Solver: {solver}, C: {c}:')\n",
    "        mod = LogisticRegression(max_iter=10000,random_state=42,solver=solver,penalty='l2',C=c,class_weight=\"balanced\")\n",
    "        mod.fit(X_train, y_train)\n",
    "        pred_valid = mod.predict(X_valid)\n",
    "        pred_prob_valid = mod.predict_proba(X_valid)\n",
    "        res_collection[solver][str(c)]['accuracy'] = accuracy_score(y_valid,pred_valid)\n",
    "        res_collection[solver][str(c)]['auroc'] = roc_auc_score(y_valid,pred_prob_valid,multi_class='ovr')\n",
    "        res_collection[solver][str(c)]['macroF1'] = f1_score(y_valid,pred_valid,average='macro')\n",
    "        res_collection[solver][str(c)]['microF1'] = f1_score(y_valid,pred_valid,average='micro')\n"
   ]
  },
  {
   "cell_type": "code",
   "execution_count": 36,
   "id": "c35f5f3a",
   "metadata": {},
   "outputs": [
    {
     "name": "stdout",
     "output_type": "stream",
     "text": [
      "{'accuracy': 'liblinear+1', 'auroc': 'liblinear+1', 'macro_f1': 'lbfgs+1', 'micro_f1': 'liblinear+1'}\n"
     ]
    }
   ],
   "source": [
    "solvers = ['lbfgs','liblinear']\n",
    "c_list = [0.001,0.01,0.1,1,10,100,1000]\n",
    "\n",
    "best_grid_word2vec = {'accuracy':None,'auroc':None,'macro_f1':None,'micro_f1':None}\n",
    "accuracy_star = -np.inf\n",
    "auroc_star = -np.inf\n",
    "macro_f1_star = -np.inf\n",
    "micro_f1_star = -np.inf\n",
    "\n",
    "for solver in solvers:\n",
    "    for c in c_list:\n",
    "        accuracy = res_collection[solver][str(c)]['accuracy']\n",
    "        auroc = res_collection[solver][str(c)]['auroc']\n",
    "        macro_f1 = res_collection[solver][str(c)]['macroF1']\n",
    "        micro_f1 = res_collection[solver][str(c)]['microF1']\n",
    "        if accuracy > accuracy_star:\n",
    "            best_grid_word2vec['accuracy'] = solver + \"+\" + str(c)\n",
    "            accuracy_star = accuracy\n",
    "        if auroc > auroc_star:\n",
    "            best_grid_word2vec['auroc'] = solver + \"+\" + str(c)\n",
    "            auroc_star = auroc\n",
    "        if macro_f1 > macro_f1_star:\n",
    "            best_grid_word2vec['macro_f1'] = solver + \"+\" + str(c)\n",
    "            macro_f1_star = macro_f1\n",
    "        if micro_f1 > micro_f1_star:\n",
    "            best_grid_word2vec['micro_f1'] = solver + \"+\" + str(c)\n",
    "            micro_f1_star = micro_f1\n",
    "\n",
    "print(best_grid_word2vec)"
   ]
  },
  {
   "cell_type": "code",
   "execution_count": 37,
   "id": "f97bb941",
   "metadata": {},
   "outputs": [
    {
     "data": {
      "text/plain": [
       "{'accuracy': 0.7091988130563798,\n",
       " 'auroc': 0.9462834723220401,\n",
       " 'macroF1': 0.7190222685790466,\n",
       " 'microF1': 0.7091988130563798}"
      ]
     },
     "execution_count": 37,
     "metadata": {},
     "output_type": "execute_result"
    }
   ],
   "source": [
    "res_collection['liblinear']['1']"
   ]
  },
  {
   "cell_type": "code",
   "execution_count": 38,
   "id": "cd5d67a7",
   "metadata": {},
   "outputs": [],
   "source": [
    "mod_opt = LogisticRegression(max_iter=10000,random_state=42,solver='liblinear',penalty='l2',C=1,class_weight=\"balanced\")\n",
    "mod_opt.fit(X_train, y_train)\n",
    "optpred_train = mod_opt.predict(X_train)\n",
    "optpred_valid = mod.predict(X_valid)"
   ]
  },
  {
   "cell_type": "code",
   "execution_count": 39,
   "id": "b62db963",
   "metadata": {},
   "outputs": [],
   "source": [
    "df_final = df.copy()"
   ]
  },
  {
   "cell_type": "code",
   "execution_count": 40,
   "id": "6e960f7c",
   "metadata": {},
   "outputs": [],
   "source": [
    "df_undeter_train.reset_index(inplace=True,drop=True)\n",
    "df_undeter_valid.reset_index(inplace=True,drop=True)"
   ]
  },
  {
   "cell_type": "code",
   "execution_count": 41,
   "id": "60424a26",
   "metadata": {},
   "outputs": [
    {
     "name": "stderr",
     "output_type": "stream",
     "text": [
      "/tmp/ipykernel_15767/227726907.py:4: SettingWithCopyWarning: \n",
      "A value is trying to be set on a copy of a slice from a DataFrame\n",
      "\n",
      "See the caveats in the documentation: https://pandas.pydata.org/pandas-docs/stable/user_guide/indexing.html#returning-a-view-versus-a-copy\n",
      "  df_final.predicted[ID] = optpred_train[i]\n"
     ]
    }
   ],
   "source": [
    "for i in range(df_undeter_train.shape[0]):\n",
    "    ID = df_undeter_train.id[i]\n",
    "    assert df_final.predicted[ID] == \"undetermined\"\n",
    "    df_final.predicted[ID] = optpred_train[i]"
   ]
  },
  {
   "cell_type": "code",
   "execution_count": 42,
   "id": "355bcc97",
   "metadata": {},
   "outputs": [
    {
     "name": "stderr",
     "output_type": "stream",
     "text": [
      "/tmp/ipykernel_15767/3726575287.py:4: SettingWithCopyWarning: \n",
      "A value is trying to be set on a copy of a slice from a DataFrame\n",
      "\n",
      "See the caveats in the documentation: https://pandas.pydata.org/pandas-docs/stable/user_guide/indexing.html#returning-a-view-versus-a-copy\n",
      "  df_final.predicted[ID] = optpred_valid[i]\n"
     ]
    }
   ],
   "source": [
    "for i in range(df_undeter_valid.shape[0]):\n",
    "    ID = df_undeter_valid.id[i]\n",
    "    assert df_final.predicted[ID] == \"undetermined\"\n",
    "    df_final.predicted[ID] = optpred_valid[i]"
   ]
  },
  {
   "cell_type": "code",
   "execution_count": 43,
   "id": "3fa239eb",
   "metadata": {},
   "outputs": [
    {
     "name": "stdout",
     "output_type": "stream",
     "text": [
      "The entire sample has an accuracy of 0.8953895313451005, the train part is 0.9039031620553359, the validation part is 0.792\n"
     ]
    }
   ],
   "source": [
    "final_acc_all = sum(df_final.predicted == df_final.label)/df_final.shape[0]\n",
    "final_acc_train = sum(df_final.predicted[:-1000] == df_final.label[:-1000])/(df_final.shape[0] - 1000)\n",
    "final_acc_valid = sum(df_final.predicted[-1000:] == df_final.label[-1000:])/1000\n",
    "\n",
    "print(f'The entire sample has an accuracy of {final_acc_all}, the train part is {final_acc_train}, the validation part is {final_acc_valid}')"
   ]
  },
  {
   "cell_type": "markdown",
   "id": "25be6a79",
   "metadata": {},
   "source": [
    "***\n",
    "# Predict the test set"
   ]
  },
  {
   "cell_type": "code",
   "execution_count": 44,
   "id": "68363220",
   "metadata": {},
   "outputs": [],
   "source": [
    "df_test = pd.read_csv(\"test.csv\")"
   ]
  },
  {
   "cell_type": "code",
   "execution_count": 45,
   "id": "27ef90b1",
   "metadata": {},
   "outputs": [],
   "source": [
    "keep_columns_test = ['id','name','state','postal_code','review','review_count','is_open','stars','attributes','hours']\n",
    "\n",
    "df_test = clean_dataset(df_test,keep_columns_test,encode_cols=encode_columns)"
   ]
  },
  {
   "cell_type": "code",
   "execution_count": 46,
   "id": "d5a5b064",
   "metadata": {},
   "outputs": [
    {
     "data": {
      "text/html": [
       "<div>\n",
       "<style scoped>\n",
       "    .dataframe tbody tr th:only-of-type {\n",
       "        vertical-align: middle;\n",
       "    }\n",
       "\n",
       "    .dataframe tbody tr th {\n",
       "        vertical-align: top;\n",
       "    }\n",
       "\n",
       "    .dataframe thead th {\n",
       "        text-align: right;\n",
       "    }\n",
       "</style>\n",
       "<table border=\"1\" class=\"dataframe\">\n",
       "  <thead>\n",
       "    <tr style=\"text-align: right;\">\n",
       "      <th></th>\n",
       "      <th>id</th>\n",
       "      <th>name</th>\n",
       "      <th>state</th>\n",
       "      <th>postal_code</th>\n",
       "      <th>review</th>\n",
       "      <th>review_count</th>\n",
       "      <th>is_open</th>\n",
       "      <th>stars</th>\n",
       "      <th>attributes</th>\n",
       "      <th>hours</th>\n",
       "    </tr>\n",
       "  </thead>\n",
       "  <tbody>\n",
       "    <tr>\n",
       "      <th>0</th>\n",
       "      <td>0</td>\n",
       "      <td>Fuse</td>\n",
       "      <td>ON</td>\n",
       "      <td>M5A 1T1</td>\n",
       "      <td>Overall wonderful experience. \\n\\nThe owner Fa...</td>\n",
       "      <td>7</td>\n",
       "      <td>0</td>\n",
       "      <td>4.5</td>\n",
       "      <td>{'RestaurantsReservations': 'True', 'Restauran...</td>\n",
       "      <td>{'Tuesday': '11:30-0:0', 'Wednesday': '11:30-0...</td>\n",
       "    </tr>\n",
       "    <tr>\n",
       "      <th>1</th>\n",
       "      <td>1</td>\n",
       "      <td>b\"Vickys Fish &amp; Chips\"</td>\n",
       "      <td>ON</td>\n",
       "      <td>M6R 2N2</td>\n",
       "      <td>VIBE: Nieghbourhood hole. TV playing sports, p...</td>\n",
       "      <td>24</td>\n",
       "      <td>1</td>\n",
       "      <td>3.0</td>\n",
       "      <td>{'RestaurantsAttire': \"u'casual'\", 'GoodForKid...</td>\n",
       "      <td>{'Monday': '12:0-21:0', 'Tuesday': '12:0-21:0'...</td>\n",
       "    </tr>\n",
       "    <tr>\n",
       "      <th>2</th>\n",
       "      <td>2</td>\n",
       "      <td>Viet House</td>\n",
       "      <td>WI</td>\n",
       "      <td>53704</td>\n",
       "      <td>Viet House is very good.  The food was fresh, ...</td>\n",
       "      <td>18</td>\n",
       "      <td>0</td>\n",
       "      <td>3.5</td>\n",
       "      <td>{'BusinessParking': \"{'garage': False, 'street...</td>\n",
       "      <td>{'Monday': '11:30-21:0', 'Wednesday': '11:30-2...</td>\n",
       "    </tr>\n",
       "  </tbody>\n",
       "</table>\n",
       "</div>"
      ],
      "text/plain": [
       "   id                    name state postal_code  \\\n",
       "0   0                    Fuse    ON     M5A 1T1   \n",
       "1   1  b\"Vickys Fish & Chips\"    ON     M6R 2N2   \n",
       "2   2              Viet House    WI       53704   \n",
       "\n",
       "                                              review  review_count  is_open  \\\n",
       "0  Overall wonderful experience. \\n\\nThe owner Fa...             7        0   \n",
       "1  VIBE: Nieghbourhood hole. TV playing sports, p...            24        1   \n",
       "2  Viet House is very good.  The food was fresh, ...            18        0   \n",
       "\n",
       "   stars                                         attributes  \\\n",
       "0    4.5  {'RestaurantsReservations': 'True', 'Restauran...   \n",
       "1    3.0  {'RestaurantsAttire': \"u'casual'\", 'GoodForKid...   \n",
       "2    3.5  {'BusinessParking': \"{'garage': False, 'street...   \n",
       "\n",
       "                                               hours  \n",
       "0  {'Tuesday': '11:30-0:0', 'Wednesday': '11:30-0...  \n",
       "1  {'Monday': '12:0-21:0', 'Tuesday': '12:0-21:0'...  \n",
       "2  {'Monday': '11:30-21:0', 'Wednesday': '11:30-2...  "
      ]
     },
     "execution_count": 46,
     "metadata": {},
     "output_type": "execute_result"
    }
   ],
   "source": [
    "df_test.head(3)"
   ]
  },
  {
   "cell_type": "code",
   "execution_count": 47,
   "id": "732e3357",
   "metadata": {},
   "outputs": [],
   "source": [
    "df_test['name'] = [s.replace(\"b\\\"\",\"\").replace(\"\\\"\",\"\") for s in df_test.name]"
   ]
  },
  {
   "cell_type": "code",
   "execution_count": 48,
   "id": "115af09b",
   "metadata": {},
   "outputs": [
    {
     "data": {
      "text/html": [
       "<div>\n",
       "<style scoped>\n",
       "    .dataframe tbody tr th:only-of-type {\n",
       "        vertical-align: middle;\n",
       "    }\n",
       "\n",
       "    .dataframe tbody tr th {\n",
       "        vertical-align: top;\n",
       "    }\n",
       "\n",
       "    .dataframe thead th {\n",
       "        text-align: right;\n",
       "    }\n",
       "</style>\n",
       "<table border=\"1\" class=\"dataframe\">\n",
       "  <thead>\n",
       "    <tr style=\"text-align: right;\">\n",
       "      <th></th>\n",
       "      <th>id</th>\n",
       "      <th>name</th>\n",
       "      <th>state</th>\n",
       "      <th>postal_code</th>\n",
       "      <th>review</th>\n",
       "      <th>review_count</th>\n",
       "      <th>is_open</th>\n",
       "      <th>stars</th>\n",
       "      <th>attributes</th>\n",
       "      <th>hours</th>\n",
       "    </tr>\n",
       "  </thead>\n",
       "  <tbody>\n",
       "    <tr>\n",
       "      <th>0</th>\n",
       "      <td>0</td>\n",
       "      <td>Fuse</td>\n",
       "      <td>ON</td>\n",
       "      <td>M5A 1T1</td>\n",
       "      <td>Overall wonderful experience. \\n\\nThe owner Fa...</td>\n",
       "      <td>7</td>\n",
       "      <td>0</td>\n",
       "      <td>4.5</td>\n",
       "      <td>{'RestaurantsReservations': 'True', 'Restauran...</td>\n",
       "      <td>{'Tuesday': '11:30-0:0', 'Wednesday': '11:30-0...</td>\n",
       "    </tr>\n",
       "    <tr>\n",
       "      <th>1</th>\n",
       "      <td>1</td>\n",
       "      <td>Vickys Fish &amp; Chips</td>\n",
       "      <td>ON</td>\n",
       "      <td>M6R 2N2</td>\n",
       "      <td>VIBE: Nieghbourhood hole. TV playing sports, p...</td>\n",
       "      <td>24</td>\n",
       "      <td>1</td>\n",
       "      <td>3.0</td>\n",
       "      <td>{'RestaurantsAttire': \"u'casual'\", 'GoodForKid...</td>\n",
       "      <td>{'Monday': '12:0-21:0', 'Tuesday': '12:0-21:0'...</td>\n",
       "    </tr>\n",
       "    <tr>\n",
       "      <th>2</th>\n",
       "      <td>2</td>\n",
       "      <td>Viet House</td>\n",
       "      <td>WI</td>\n",
       "      <td>53704</td>\n",
       "      <td>Viet House is very good.  The food was fresh, ...</td>\n",
       "      <td>18</td>\n",
       "      <td>0</td>\n",
       "      <td>3.5</td>\n",
       "      <td>{'BusinessParking': \"{'garage': False, 'street...</td>\n",
       "      <td>{'Monday': '11:30-21:0', 'Wednesday': '11:30-2...</td>\n",
       "    </tr>\n",
       "    <tr>\n",
       "      <th>3</th>\n",
       "      <td>3</td>\n",
       "      <td>Thai Boat</td>\n",
       "      <td>AB</td>\n",
       "      <td>T2E 6Z3</td>\n",
       "      <td>This is a really good place. Not truly authent...</td>\n",
       "      <td>52</td>\n",
       "      <td>1</td>\n",
       "      <td>3.0</td>\n",
       "      <td>{'RestaurantsDelivery': 'False', 'RestaurantsA...</td>\n",
       "      <td>{'Monday': '0:0-0:0', 'Tuesday': '17:0-21:30',...</td>\n",
       "    </tr>\n",
       "    <tr>\n",
       "      <th>4</th>\n",
       "      <td>4</td>\n",
       "      <td>Sauce Pizza and Wine</td>\n",
       "      <td>AZ</td>\n",
       "      <td>85085</td>\n",
       "      <td>This place is great. Think fast food Italian s...</td>\n",
       "      <td>213</td>\n",
       "      <td>1</td>\n",
       "      <td>3.5</td>\n",
       "      <td>{'BusinessAcceptsCreditCards': 'True', 'GoodFo...</td>\n",
       "      <td>{'Monday': '0:0-0:0', 'Tuesday': '11:0-21:0', ...</td>\n",
       "    </tr>\n",
       "    <tr>\n",
       "      <th>...</th>\n",
       "      <td>...</td>\n",
       "      <td>...</td>\n",
       "      <td>...</td>\n",
       "      <td>...</td>\n",
       "      <td>...</td>\n",
       "      <td>...</td>\n",
       "      <td>...</td>\n",
       "      <td>...</td>\n",
       "      <td>...</td>\n",
       "      <td>...</td>\n",
       "    </tr>\n",
       "    <tr>\n",
       "      <th>9995</th>\n",
       "      <td>9995</td>\n",
       "      <td>Mexquite Mexican Eatery</td>\n",
       "      <td>NC</td>\n",
       "      <td>28277</td>\n",
       "      <td>awesome food, great price. Fresh, made to orde...</td>\n",
       "      <td>22</td>\n",
       "      <td>0</td>\n",
       "      <td>4.0</td>\n",
       "      <td>{'NoiseLevel': \"u'average'\", 'BusinessAcceptsC...</td>\n",
       "      <td>{'Monday': '11:0-21:0', 'Tuesday': '11:0-21:0'...</td>\n",
       "    </tr>\n",
       "    <tr>\n",
       "      <th>9996</th>\n",
       "      <td>9996</td>\n",
       "      <td>Sweet Tomatoes</td>\n",
       "      <td>AZ</td>\n",
       "      <td>85282</td>\n",
       "      <td>What a great experience!!  I love this locatio...</td>\n",
       "      <td>180</td>\n",
       "      <td>1</td>\n",
       "      <td>3.5</td>\n",
       "      <td>{'RestaurantsTakeOut': 'True', 'NoiseLevel': \"...</td>\n",
       "      <td>{'Monday': '11:0-21:0', 'Tuesday': '11:0-21:0'...</td>\n",
       "    </tr>\n",
       "    <tr>\n",
       "      <th>9997</th>\n",
       "      <td>9997</td>\n",
       "      <td>Brewery Bar &amp; Grill</td>\n",
       "      <td>NV</td>\n",
       "      <td>89120</td>\n",
       "      <td>I love hanging out at this bar!  It may not be...</td>\n",
       "      <td>8</td>\n",
       "      <td>0</td>\n",
       "      <td>3.5</td>\n",
       "      <td>{'RestaurantsAttire': \"u'casual'\", 'Alcohol': ...</td>\n",
       "      <td>NaN</td>\n",
       "    </tr>\n",
       "    <tr>\n",
       "      <th>9998</th>\n",
       "      <td>9998</td>\n",
       "      <td>Augies Sports Grill</td>\n",
       "      <td>AZ</td>\n",
       "      <td>85338</td>\n",
       "      <td>Here is the scenario... Baseball team and a fe...</td>\n",
       "      <td>147</td>\n",
       "      <td>1</td>\n",
       "      <td>3.5</td>\n",
       "      <td>{'Ambience': \"{'romantic': False, 'intimate': ...</td>\n",
       "      <td>{'Monday': '10:0-2:0', 'Tuesday': '10:0-2:0', ...</td>\n",
       "    </tr>\n",
       "    <tr>\n",
       "      <th>9999</th>\n",
       "      <td>9999</td>\n",
       "      <td>La Cabane \\xc3\\xa0 Sucre Constantin</td>\n",
       "      <td>QC</td>\n",
       "      <td>J7R 4K3</td>\n",
       "      <td>The good aspect of Canadian waiting is that ev...</td>\n",
       "      <td>8</td>\n",
       "      <td>1</td>\n",
       "      <td>4.0</td>\n",
       "      <td>{'RestaurantsPriceRange2': '1', 'RestaurantsDe...</td>\n",
       "      <td>{'Monday': '16:0-20:0', 'Tuesday': '16:0-20:0'...</td>\n",
       "    </tr>\n",
       "  </tbody>\n",
       "</table>\n",
       "<p>10000 rows × 10 columns</p>\n",
       "</div>"
      ],
      "text/plain": [
       "        id                                 name state postal_code  \\\n",
       "0        0                                 Fuse    ON     M5A 1T1   \n",
       "1        1                  Vickys Fish & Chips    ON     M6R 2N2   \n",
       "2        2                           Viet House    WI       53704   \n",
       "3        3                            Thai Boat    AB     T2E 6Z3   \n",
       "4        4                 Sauce Pizza and Wine    AZ       85085   \n",
       "...    ...                                  ...   ...         ...   \n",
       "9995  9995              Mexquite Mexican Eatery    NC       28277   \n",
       "9996  9996                       Sweet Tomatoes    AZ       85282   \n",
       "9997  9997                  Brewery Bar & Grill    NV       89120   \n",
       "9998  9998                  Augies Sports Grill    AZ       85338   \n",
       "9999  9999  La Cabane \\xc3\\xa0 Sucre Constantin    QC     J7R 4K3   \n",
       "\n",
       "                                                 review  review_count  \\\n",
       "0     Overall wonderful experience. \\n\\nThe owner Fa...             7   \n",
       "1     VIBE: Nieghbourhood hole. TV playing sports, p...            24   \n",
       "2     Viet House is very good.  The food was fresh, ...            18   \n",
       "3     This is a really good place. Not truly authent...            52   \n",
       "4     This place is great. Think fast food Italian s...           213   \n",
       "...                                                 ...           ...   \n",
       "9995  awesome food, great price. Fresh, made to orde...            22   \n",
       "9996  What a great experience!!  I love this locatio...           180   \n",
       "9997  I love hanging out at this bar!  It may not be...             8   \n",
       "9998  Here is the scenario... Baseball team and a fe...           147   \n",
       "9999  The good aspect of Canadian waiting is that ev...             8   \n",
       "\n",
       "      is_open  stars                                         attributes  \\\n",
       "0           0    4.5  {'RestaurantsReservations': 'True', 'Restauran...   \n",
       "1           1    3.0  {'RestaurantsAttire': \"u'casual'\", 'GoodForKid...   \n",
       "2           0    3.5  {'BusinessParking': \"{'garage': False, 'street...   \n",
       "3           1    3.0  {'RestaurantsDelivery': 'False', 'RestaurantsA...   \n",
       "4           1    3.5  {'BusinessAcceptsCreditCards': 'True', 'GoodFo...   \n",
       "...       ...    ...                                                ...   \n",
       "9995        0    4.0  {'NoiseLevel': \"u'average'\", 'BusinessAcceptsC...   \n",
       "9996        1    3.5  {'RestaurantsTakeOut': 'True', 'NoiseLevel': \"...   \n",
       "9997        0    3.5  {'RestaurantsAttire': \"u'casual'\", 'Alcohol': ...   \n",
       "9998        1    3.5  {'Ambience': \"{'romantic': False, 'intimate': ...   \n",
       "9999        1    4.0  {'RestaurantsPriceRange2': '1', 'RestaurantsDe...   \n",
       "\n",
       "                                                  hours  \n",
       "0     {'Tuesday': '11:30-0:0', 'Wednesday': '11:30-0...  \n",
       "1     {'Monday': '12:0-21:0', 'Tuesday': '12:0-21:0'...  \n",
       "2     {'Monday': '11:30-21:0', 'Wednesday': '11:30-2...  \n",
       "3     {'Monday': '0:0-0:0', 'Tuesday': '17:0-21:30',...  \n",
       "4     {'Monday': '0:0-0:0', 'Tuesday': '11:0-21:0', ...  \n",
       "...                                                 ...  \n",
       "9995  {'Monday': '11:0-21:0', 'Tuesday': '11:0-21:0'...  \n",
       "9996  {'Monday': '11:0-21:0', 'Tuesday': '11:0-21:0'...  \n",
       "9997                                                NaN  \n",
       "9998  {'Monday': '10:0-2:0', 'Tuesday': '10:0-2:0', ...  \n",
       "9999  {'Monday': '16:0-20:0', 'Tuesday': '16:0-20:0'...  \n",
       "\n",
       "[10000 rows x 10 columns]"
      ]
     },
     "execution_count": 48,
     "metadata": {},
     "output_type": "execute_result"
    }
   ],
   "source": [
    "df_test"
   ]
  },
  {
   "cell_type": "code",
   "execution_count": 49,
   "id": "30bf2b7a",
   "metadata": {},
   "outputs": [],
   "source": [
    "df_test = process_name(df_test)"
   ]
  },
  {
   "cell_type": "code",
   "execution_count": 50,
   "id": "792824fa",
   "metadata": {},
   "outputs": [],
   "source": [
    "name_tokens_final,all_name_tokens_final = tokenize_names(df)"
   ]
  },
  {
   "cell_type": "code",
   "execution_count": 51,
   "id": "b2c49627",
   "metadata": {},
   "outputs": [],
   "source": [
    "strong_ind_final = find_strong_name_indicators(df,name_tokens_final,all_name_tokens_final)"
   ]
  },
  {
   "cell_type": "code",
   "execution_count": 52,
   "id": "32921d63",
   "metadata": {},
   "outputs": [
    {
     "name": "stderr",
     "output_type": "stream",
     "text": [
      "/tmp/ipykernel_15767/3066664956.py:11: SettingWithCopyWarning: \n",
      "A value is trying to be set on a copy of a slice from a DataFrame\n",
      "\n",
      "See the caveats in the documentation: https://pandas.pydata.org/pandas-docs/stable/user_guide/indexing.html#returning-a-view-versus-a-copy\n",
      "  df['predicted'][i] = strong_ind[w][2]\n"
     ]
    }
   ],
   "source": [
    "df_test = predict_with_name_indicator(df_test,strong_ind_final)"
   ]
  },
  {
   "cell_type": "code",
   "execution_count": 53,
   "id": "f05996b5",
   "metadata": {},
   "outputs": [],
   "source": [
    "df_test_undeter = df_test.loc[df_test['predicted']=='undetermined']"
   ]
  },
  {
   "cell_type": "code",
   "execution_count": 54,
   "id": "a9d94c32",
   "metadata": {},
   "outputs": [],
   "source": [
    "reviews_test_undeter = df_test_undeter.review"
   ]
  },
  {
   "cell_type": "code",
   "execution_count": 55,
   "id": "ae8e67a4",
   "metadata": {},
   "outputs": [],
   "source": [
    "X_test = tfidf.fit_transform(reviews_test_undeter)"
   ]
  },
  {
   "cell_type": "code",
   "execution_count": 56,
   "id": "e6d8b991",
   "metadata": {},
   "outputs": [],
   "source": [
    "optpred_test = mod_opt.predict(X_test)"
   ]
  },
  {
   "cell_type": "code",
   "execution_count": 57,
   "id": "42496169",
   "metadata": {},
   "outputs": [],
   "source": [
    "df_test_final = df_test.copy()"
   ]
  },
  {
   "cell_type": "code",
   "execution_count": 58,
   "id": "4a20b9bc",
   "metadata": {},
   "outputs": [],
   "source": [
    "df_test_undeter.reset_index(inplace=True,drop=True)"
   ]
  },
  {
   "cell_type": "code",
   "execution_count": 59,
   "id": "df17f6d5",
   "metadata": {},
   "outputs": [
    {
     "name": "stderr",
     "output_type": "stream",
     "text": [
      "/tmp/ipykernel_15767/3212858922.py:4: SettingWithCopyWarning: \n",
      "A value is trying to be set on a copy of a slice from a DataFrame\n",
      "\n",
      "See the caveats in the documentation: https://pandas.pydata.org/pandas-docs/stable/user_guide/indexing.html#returning-a-view-versus-a-copy\n",
      "  df_test_final.predicted[ID] = optpred_test[i]\n"
     ]
    }
   ],
   "source": [
    "for i in range(df_test_undeter.shape[0]):\n",
    "    ID = df_test_undeter.id[i]\n",
    "    assert df_test_final.predicted[ID] == \"undetermined\"\n",
    "    df_test_final.predicted[ID] = optpred_test[i]"
   ]
  },
  {
   "cell_type": "code",
   "execution_count": 60,
   "id": "2b730286",
   "metadata": {},
   "outputs": [
    {
     "data": {
      "text/html": [
       "<div>\n",
       "<style scoped>\n",
       "    .dataframe tbody tr th:only-of-type {\n",
       "        vertical-align: middle;\n",
       "    }\n",
       "\n",
       "    .dataframe tbody tr th {\n",
       "        vertical-align: top;\n",
       "    }\n",
       "\n",
       "    .dataframe thead th {\n",
       "        text-align: right;\n",
       "    }\n",
       "</style>\n",
       "<table border=\"1\" class=\"dataframe\">\n",
       "  <thead>\n",
       "    <tr style=\"text-align: right;\">\n",
       "      <th></th>\n",
       "      <th>id</th>\n",
       "      <th>name</th>\n",
       "      <th>name_sep</th>\n",
       "      <th>state</th>\n",
       "      <th>postal_code</th>\n",
       "      <th>review</th>\n",
       "      <th>review_count</th>\n",
       "      <th>is_open</th>\n",
       "      <th>stars</th>\n",
       "      <th>attributes</th>\n",
       "      <th>hours</th>\n",
       "      <th>predicted</th>\n",
       "    </tr>\n",
       "  </thead>\n",
       "  <tbody>\n",
       "    <tr>\n",
       "      <th>0</th>\n",
       "      <td>0</td>\n",
       "      <td>Fuse</td>\n",
       "      <td>fuse</td>\n",
       "      <td>ON</td>\n",
       "      <td>M5A 1T1</td>\n",
       "      <td>Overall wonderful experience. \\n\\nThe owner Fa...</td>\n",
       "      <td>7</td>\n",
       "      <td>0</td>\n",
       "      <td>4.5</td>\n",
       "      <td>{'RestaurantsReservations': 'True', 'Restauran...</td>\n",
       "      <td>{'Tuesday': '11:30-0:0', 'Wednesday': '11:30-0...</td>\n",
       "      <td>canadian (new)</td>\n",
       "    </tr>\n",
       "    <tr>\n",
       "      <th>1</th>\n",
       "      <td>1</td>\n",
       "      <td>Vickys Fish &amp; Chips</td>\n",
       "      <td>vickys  fish &amp;  chips</td>\n",
       "      <td>ON</td>\n",
       "      <td>M6R 2N2</td>\n",
       "      <td>VIBE: Nieghbourhood hole. TV playing sports, p...</td>\n",
       "      <td>24</td>\n",
       "      <td>1</td>\n",
       "      <td>3.0</td>\n",
       "      <td>{'RestaurantsAttire': \"u'casual'\", 'GoodForKid...</td>\n",
       "      <td>{'Monday': '12:0-21:0', 'Tuesday': '12:0-21:0'...</td>\n",
       "      <td>thai</td>\n",
       "    </tr>\n",
       "    <tr>\n",
       "      <th>2</th>\n",
       "      <td>2</td>\n",
       "      <td>Viet House</td>\n",
       "      <td>viet  house</td>\n",
       "      <td>WI</td>\n",
       "      <td>53704</td>\n",
       "      <td>Viet House is very good.  The food was fresh, ...</td>\n",
       "      <td>18</td>\n",
       "      <td>0</td>\n",
       "      <td>3.5</td>\n",
       "      <td>{'BusinessParking': \"{'garage': False, 'street...</td>\n",
       "      <td>{'Monday': '11:30-21:0', 'Wednesday': '11:30-2...</td>\n",
       "      <td>thai</td>\n",
       "    </tr>\n",
       "    <tr>\n",
       "      <th>3</th>\n",
       "      <td>3</td>\n",
       "      <td>Thai Boat</td>\n",
       "      <td>thai  boat</td>\n",
       "      <td>AB</td>\n",
       "      <td>T2E 6Z3</td>\n",
       "      <td>This is a really good place. Not truly authent...</td>\n",
       "      <td>52</td>\n",
       "      <td>1</td>\n",
       "      <td>3.0</td>\n",
       "      <td>{'RestaurantsDelivery': 'False', 'RestaurantsA...</td>\n",
       "      <td>{'Monday': '0:0-0:0', 'Tuesday': '17:0-21:30',...</td>\n",
       "      <td>thai</td>\n",
       "    </tr>\n",
       "    <tr>\n",
       "      <th>4</th>\n",
       "      <td>4</td>\n",
       "      <td>Sauce Pizza and Wine</td>\n",
       "      <td>sauce  pizza and  wine</td>\n",
       "      <td>AZ</td>\n",
       "      <td>85085</td>\n",
       "      <td>This place is great. Think fast food Italian s...</td>\n",
       "      <td>213</td>\n",
       "      <td>1</td>\n",
       "      <td>3.5</td>\n",
       "      <td>{'BusinessAcceptsCreditCards': 'True', 'GoodFo...</td>\n",
       "      <td>{'Monday': '0:0-0:0', 'Tuesday': '11:0-21:0', ...</td>\n",
       "      <td>italian</td>\n",
       "    </tr>\n",
       "    <tr>\n",
       "      <th>...</th>\n",
       "      <td>...</td>\n",
       "      <td>...</td>\n",
       "      <td>...</td>\n",
       "      <td>...</td>\n",
       "      <td>...</td>\n",
       "      <td>...</td>\n",
       "      <td>...</td>\n",
       "      <td>...</td>\n",
       "      <td>...</td>\n",
       "      <td>...</td>\n",
       "      <td>...</td>\n",
       "      <td>...</td>\n",
       "    </tr>\n",
       "    <tr>\n",
       "      <th>9995</th>\n",
       "      <td>9995</td>\n",
       "      <td>Mexquite Mexican Eatery</td>\n",
       "      <td>mexquite  mexican  eatery</td>\n",
       "      <td>NC</td>\n",
       "      <td>28277</td>\n",
       "      <td>awesome food, great price. Fresh, made to orde...</td>\n",
       "      <td>22</td>\n",
       "      <td>0</td>\n",
       "      <td>4.0</td>\n",
       "      <td>{'NoiseLevel': \"u'average'\", 'BusinessAcceptsC...</td>\n",
       "      <td>{'Monday': '11:0-21:0', 'Tuesday': '11:0-21:0'...</td>\n",
       "      <td>mexican</td>\n",
       "    </tr>\n",
       "    <tr>\n",
       "      <th>9996</th>\n",
       "      <td>9996</td>\n",
       "      <td>Sweet Tomatoes</td>\n",
       "      <td>sweet  tomatoes</td>\n",
       "      <td>AZ</td>\n",
       "      <td>85282</td>\n",
       "      <td>What a great experience!!  I love this locatio...</td>\n",
       "      <td>180</td>\n",
       "      <td>1</td>\n",
       "      <td>3.5</td>\n",
       "      <td>{'RestaurantsTakeOut': 'True', 'NoiseLevel': \"...</td>\n",
       "      <td>{'Monday': '11:0-21:0', 'Tuesday': '11:0-21:0'...</td>\n",
       "      <td>american (traditional)</td>\n",
       "    </tr>\n",
       "    <tr>\n",
       "      <th>9997</th>\n",
       "      <td>9997</td>\n",
       "      <td>Brewery Bar &amp; Grill</td>\n",
       "      <td>brewery  bar &amp;  grill</td>\n",
       "      <td>NV</td>\n",
       "      <td>89120</td>\n",
       "      <td>I love hanging out at this bar!  It may not be...</td>\n",
       "      <td>8</td>\n",
       "      <td>0</td>\n",
       "      <td>3.5</td>\n",
       "      <td>{'RestaurantsAttire': \"u'casual'\", 'Alcohol': ...</td>\n",
       "      <td>NaN</td>\n",
       "      <td>american (traditional)</td>\n",
       "    </tr>\n",
       "    <tr>\n",
       "      <th>9998</th>\n",
       "      <td>9998</td>\n",
       "      <td>Augies Sports Grill</td>\n",
       "      <td>augies  sports  grill</td>\n",
       "      <td>AZ</td>\n",
       "      <td>85338</td>\n",
       "      <td>Here is the scenario... Baseball team and a fe...</td>\n",
       "      <td>147</td>\n",
       "      <td>1</td>\n",
       "      <td>3.5</td>\n",
       "      <td>{'Ambience': \"{'romantic': False, 'intimate': ...</td>\n",
       "      <td>{'Monday': '10:0-2:0', 'Tuesday': '10:0-2:0', ...</td>\n",
       "      <td>american (traditional)</td>\n",
       "    </tr>\n",
       "    <tr>\n",
       "      <th>9999</th>\n",
       "      <td>9999</td>\n",
       "      <td>La Cabane \\xc3\\xa0 Sucre Constantin</td>\n",
       "      <td>la  cabane \\xc3\\xa0  sucre  constantin</td>\n",
       "      <td>QC</td>\n",
       "      <td>J7R 4K3</td>\n",
       "      <td>The good aspect of Canadian waiting is that ev...</td>\n",
       "      <td>8</td>\n",
       "      <td>1</td>\n",
       "      <td>4.0</td>\n",
       "      <td>{'RestaurantsPriceRange2': '1', 'RestaurantsDe...</td>\n",
       "      <td>{'Monday': '16:0-20:0', 'Tuesday': '16:0-20:0'...</td>\n",
       "      <td>canadian (new)</td>\n",
       "    </tr>\n",
       "  </tbody>\n",
       "</table>\n",
       "<p>10000 rows × 12 columns</p>\n",
       "</div>"
      ],
      "text/plain": [
       "        id                                 name  \\\n",
       "0        0                                 Fuse   \n",
       "1        1                  Vickys Fish & Chips   \n",
       "2        2                           Viet House   \n",
       "3        3                            Thai Boat   \n",
       "4        4                 Sauce Pizza and Wine   \n",
       "...    ...                                  ...   \n",
       "9995  9995              Mexquite Mexican Eatery   \n",
       "9996  9996                       Sweet Tomatoes   \n",
       "9997  9997                  Brewery Bar & Grill   \n",
       "9998  9998                  Augies Sports Grill   \n",
       "9999  9999  La Cabane \\xc3\\xa0 Sucre Constantin   \n",
       "\n",
       "                                    name_sep state postal_code  \\\n",
       "0                                       fuse    ON     M5A 1T1   \n",
       "1                      vickys  fish &  chips    ON     M6R 2N2   \n",
       "2                                viet  house    WI       53704   \n",
       "3                                 thai  boat    AB     T2E 6Z3   \n",
       "4                     sauce  pizza and  wine    AZ       85085   \n",
       "...                                      ...   ...         ...   \n",
       "9995               mexquite  mexican  eatery    NC       28277   \n",
       "9996                         sweet  tomatoes    AZ       85282   \n",
       "9997                   brewery  bar &  grill    NV       89120   \n",
       "9998                   augies  sports  grill    AZ       85338   \n",
       "9999  la  cabane \\xc3\\xa0  sucre  constantin    QC     J7R 4K3   \n",
       "\n",
       "                                                 review  review_count  \\\n",
       "0     Overall wonderful experience. \\n\\nThe owner Fa...             7   \n",
       "1     VIBE: Nieghbourhood hole. TV playing sports, p...            24   \n",
       "2     Viet House is very good.  The food was fresh, ...            18   \n",
       "3     This is a really good place. Not truly authent...            52   \n",
       "4     This place is great. Think fast food Italian s...           213   \n",
       "...                                                 ...           ...   \n",
       "9995  awesome food, great price. Fresh, made to orde...            22   \n",
       "9996  What a great experience!!  I love this locatio...           180   \n",
       "9997  I love hanging out at this bar!  It may not be...             8   \n",
       "9998  Here is the scenario... Baseball team and a fe...           147   \n",
       "9999  The good aspect of Canadian waiting is that ev...             8   \n",
       "\n",
       "      is_open  stars                                         attributes  \\\n",
       "0           0    4.5  {'RestaurantsReservations': 'True', 'Restauran...   \n",
       "1           1    3.0  {'RestaurantsAttire': \"u'casual'\", 'GoodForKid...   \n",
       "2           0    3.5  {'BusinessParking': \"{'garage': False, 'street...   \n",
       "3           1    3.0  {'RestaurantsDelivery': 'False', 'RestaurantsA...   \n",
       "4           1    3.5  {'BusinessAcceptsCreditCards': 'True', 'GoodFo...   \n",
       "...       ...    ...                                                ...   \n",
       "9995        0    4.0  {'NoiseLevel': \"u'average'\", 'BusinessAcceptsC...   \n",
       "9996        1    3.5  {'RestaurantsTakeOut': 'True', 'NoiseLevel': \"...   \n",
       "9997        0    3.5  {'RestaurantsAttire': \"u'casual'\", 'Alcohol': ...   \n",
       "9998        1    3.5  {'Ambience': \"{'romantic': False, 'intimate': ...   \n",
       "9999        1    4.0  {'RestaurantsPriceRange2': '1', 'RestaurantsDe...   \n",
       "\n",
       "                                                  hours  \\\n",
       "0     {'Tuesday': '11:30-0:0', 'Wednesday': '11:30-0...   \n",
       "1     {'Monday': '12:0-21:0', 'Tuesday': '12:0-21:0'...   \n",
       "2     {'Monday': '11:30-21:0', 'Wednesday': '11:30-2...   \n",
       "3     {'Monday': '0:0-0:0', 'Tuesday': '17:0-21:30',...   \n",
       "4     {'Monday': '0:0-0:0', 'Tuesday': '11:0-21:0', ...   \n",
       "...                                                 ...   \n",
       "9995  {'Monday': '11:0-21:0', 'Tuesday': '11:0-21:0'...   \n",
       "9996  {'Monday': '11:0-21:0', 'Tuesday': '11:0-21:0'...   \n",
       "9997                                                NaN   \n",
       "9998  {'Monday': '10:0-2:0', 'Tuesday': '10:0-2:0', ...   \n",
       "9999  {'Monday': '16:0-20:0', 'Tuesday': '16:0-20:0'...   \n",
       "\n",
       "                   predicted  \n",
       "0             canadian (new)  \n",
       "1                       thai  \n",
       "2                       thai  \n",
       "3                       thai  \n",
       "4                    italian  \n",
       "...                      ...  \n",
       "9995                 mexican  \n",
       "9996  american (traditional)  \n",
       "9997  american (traditional)  \n",
       "9998  american (traditional)  \n",
       "9999          canadian (new)  \n",
       "\n",
       "[10000 rows x 12 columns]"
      ]
     },
     "execution_count": 60,
     "metadata": {},
     "output_type": "execute_result"
    }
   ],
   "source": [
    "df_test_final"
   ]
  },
  {
   "cell_type": "code",
   "execution_count": 61,
   "id": "eb03c0c1",
   "metadata": {},
   "outputs": [],
   "source": [
    "df_out = df_test_final.loc[:,['id','predicted']]"
   ]
  },
  {
   "cell_type": "code",
   "execution_count": 62,
   "id": "5b37a3a5",
   "metadata": {},
   "outputs": [],
   "source": [
    "df_out.columns = ['Id','Predicted']"
   ]
  },
  {
   "cell_type": "code",
   "execution_count": 63,
   "id": "0ecfab4d",
   "metadata": {},
   "outputs": [
    {
     "data": {
      "text/html": [
       "<div>\n",
       "<style scoped>\n",
       "    .dataframe tbody tr th:only-of-type {\n",
       "        vertical-align: middle;\n",
       "    }\n",
       "\n",
       "    .dataframe tbody tr th {\n",
       "        vertical-align: top;\n",
       "    }\n",
       "\n",
       "    .dataframe thead th {\n",
       "        text-align: right;\n",
       "    }\n",
       "</style>\n",
       "<table border=\"1\" class=\"dataframe\">\n",
       "  <thead>\n",
       "    <tr style=\"text-align: right;\">\n",
       "      <th></th>\n",
       "      <th>Id</th>\n",
       "      <th>Predicted</th>\n",
       "    </tr>\n",
       "  </thead>\n",
       "  <tbody>\n",
       "    <tr>\n",
       "      <th>0</th>\n",
       "      <td>0</td>\n",
       "      <td>canadian (new)</td>\n",
       "    </tr>\n",
       "    <tr>\n",
       "      <th>1</th>\n",
       "      <td>1</td>\n",
       "      <td>thai</td>\n",
       "    </tr>\n",
       "    <tr>\n",
       "      <th>2</th>\n",
       "      <td>2</td>\n",
       "      <td>thai</td>\n",
       "    </tr>\n",
       "    <tr>\n",
       "      <th>3</th>\n",
       "      <td>3</td>\n",
       "      <td>thai</td>\n",
       "    </tr>\n",
       "    <tr>\n",
       "      <th>4</th>\n",
       "      <td>4</td>\n",
       "      <td>italian</td>\n",
       "    </tr>\n",
       "    <tr>\n",
       "      <th>...</th>\n",
       "      <td>...</td>\n",
       "      <td>...</td>\n",
       "    </tr>\n",
       "    <tr>\n",
       "      <th>9995</th>\n",
       "      <td>9995</td>\n",
       "      <td>mexican</td>\n",
       "    </tr>\n",
       "    <tr>\n",
       "      <th>9996</th>\n",
       "      <td>9996</td>\n",
       "      <td>american (traditional)</td>\n",
       "    </tr>\n",
       "    <tr>\n",
       "      <th>9997</th>\n",
       "      <td>9997</td>\n",
       "      <td>american (traditional)</td>\n",
       "    </tr>\n",
       "    <tr>\n",
       "      <th>9998</th>\n",
       "      <td>9998</td>\n",
       "      <td>american (traditional)</td>\n",
       "    </tr>\n",
       "    <tr>\n",
       "      <th>9999</th>\n",
       "      <td>9999</td>\n",
       "      <td>canadian (new)</td>\n",
       "    </tr>\n",
       "  </tbody>\n",
       "</table>\n",
       "<p>10000 rows × 2 columns</p>\n",
       "</div>"
      ],
      "text/plain": [
       "        Id               Predicted\n",
       "0        0          canadian (new)\n",
       "1        1                    thai\n",
       "2        2                    thai\n",
       "3        3                    thai\n",
       "4        4                 italian\n",
       "...    ...                     ...\n",
       "9995  9995                 mexican\n",
       "9996  9996  american (traditional)\n",
       "9997  9997  american (traditional)\n",
       "9998  9998  american (traditional)\n",
       "9999  9999          canadian (new)\n",
       "\n",
       "[10000 rows x 2 columns]"
      ]
     },
     "execution_count": 63,
     "metadata": {},
     "output_type": "execute_result"
    }
   ],
   "source": [
    "df_out"
   ]
  },
  {
   "cell_type": "code",
   "execution_count": 64,
   "id": "59f35df3",
   "metadata": {},
   "outputs": [],
   "source": [
    "df_out.to_csv(\"predicted_LinlinHe.csv\",index=False)"
   ]
  },
  {
   "cell_type": "code",
   "execution_count": null,
   "id": "c2055dac",
   "metadata": {},
   "outputs": [],
   "source": []
  }
 ],
 "metadata": {
  "kernelspec": {
   "display_name": "Python 3 (ipykernel)",
   "language": "python",
   "name": "python3"
  },
  "language_info": {
   "codemirror_mode": {
    "name": "ipython",
    "version": 3
   },
   "file_extension": ".py",
   "mimetype": "text/x-python",
   "name": "python",
   "nbconvert_exporter": "python",
   "pygments_lexer": "ipython3",
   "version": "3.10.8"
  }
 },
 "nbformat": 4,
 "nbformat_minor": 5
}
